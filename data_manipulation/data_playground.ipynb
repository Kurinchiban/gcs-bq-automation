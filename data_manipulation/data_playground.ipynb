{
 "cells": [
  {
   "cell_type": "code",
   "execution_count": 21,
   "metadata": {},
   "outputs": [],
   "source": [
    "import pandas as pd\n",
    "\n",
    "df = pd.read_csv(\"/home/kurinchiban/Desktop/gcs-bq-automation/data_manipulation/Commodity.csv\", header=0, quotechar='\"', delimiter=',')"
   ]
  },
  {
   "cell_type": "code",
   "execution_count": 22,
   "metadata": {},
   "outputs": [],
   "source": [
    "df[\"Reported Date\"] = pd.to_datetime(df[\"Reported Date\"])\n",
    "df['Reported Date'] = pd.to_datetime(df['Reported Date']).dt.strftime(\"%Y-%m-%d\")\n",
    "\n",
    "df_1 = df.iloc[1:5000] \n",
    "df_2 = df.iloc[5000:10000]"
   ]
  },
  {
   "cell_type": "code",
   "execution_count": 23,
   "metadata": {},
   "outputs": [],
   "source": [
    "df_1.to_csv(\"commodity_01.csv\", index=False)\n",
    "df_2.to_csv(\"commodity_02.csv\", index=False)"
   ]
  },
  {
   "cell_type": "code",
   "execution_count": 24,
   "metadata": {},
   "outputs": [],
   "source": [
    "import pandas as pd\n",
    "\n",
    "df = pd.read_csv(\"/home/kurinchiban/Desktop/gcs-bq-automation/data_manipulation/commodity_01.csv\")\n",
    "\n",
    "df_3 = df.iloc[1:10] \n",
    "df_4 = df.iloc[10:20]"
   ]
  },
  {
   "cell_type": "code",
   "execution_count": 25,
   "metadata": {},
   "outputs": [
    {
     "data": {
      "text/html": [
       "<div>\n",
       "<style scoped>\n",
       "    .dataframe tbody tr th:only-of-type {\n",
       "        vertical-align: middle;\n",
       "    }\n",
       "\n",
       "    .dataframe tbody tr th {\n",
       "        vertical-align: top;\n",
       "    }\n",
       "\n",
       "    .dataframe thead th {\n",
       "        text-align: right;\n",
       "    }\n",
       "</style>\n",
       "<table border=\"1\" class=\"dataframe\">\n",
       "  <thead>\n",
       "    <tr style=\"text-align: right;\">\n",
       "      <th></th>\n",
       "      <th>State Name</th>\n",
       "      <th>District Name</th>\n",
       "      <th>Commodity</th>\n",
       "      <th>Market Name</th>\n",
       "      <th>Variety</th>\n",
       "      <th>Group</th>\n",
       "      <th>Arrivals Tonnes</th>\n",
       "      <th>Min Price Rs_per_Quintal</th>\n",
       "      <th>Max Price Rs_per_Quintal</th>\n",
       "      <th>Modal Price Rs_per_Quintal</th>\n",
       "      <th>Reported Date</th>\n",
       "    </tr>\n",
       "  </thead>\n",
       "  <tbody>\n",
       "    <tr>\n",
       "      <th>1</th>\n",
       "      <td>Gujarat</td>\n",
       "      <td>Dahod</td>\n",
       "      <td>Drumstick</td>\n",
       "      <td>Dahod(Veg. Market)</td>\n",
       "      <td>Other</td>\n",
       "      <td>Vegetables</td>\n",
       "      <td>0.13</td>\n",
       "      <td>3000.0</td>\n",
       "      <td>4000.0</td>\n",
       "      <td>3700.0</td>\n",
       "      <td>2019-01-19</td>\n",
       "    </tr>\n",
       "    <tr>\n",
       "      <th>2</th>\n",
       "      <td>Gujarat</td>\n",
       "      <td>Vadodara(Baroda)</td>\n",
       "      <td>Drumstick</td>\n",
       "      <td>Padra</td>\n",
       "      <td>Other</td>\n",
       "      <td>Vegetables</td>\n",
       "      <td>0.60</td>\n",
       "      <td>2000.0</td>\n",
       "      <td>3000.0</td>\n",
       "      <td>2500.0</td>\n",
       "      <td>2019-01-19</td>\n",
       "    </tr>\n",
       "    <tr>\n",
       "      <th>3</th>\n",
       "      <td>Gujarat</td>\n",
       "      <td>Surat</td>\n",
       "      <td>Drumstick</td>\n",
       "      <td>Surat</td>\n",
       "      <td>Other</td>\n",
       "      <td>Vegetables</td>\n",
       "      <td>6.50</td>\n",
       "      <td>2750.0</td>\n",
       "      <td>4250.0</td>\n",
       "      <td>3500.0</td>\n",
       "      <td>2019-01-19</td>\n",
       "    </tr>\n",
       "    <tr>\n",
       "      <th>4</th>\n",
       "      <td>Gujarat</td>\n",
       "      <td>Surendranagar</td>\n",
       "      <td>Drumstick</td>\n",
       "      <td>Vadhvan</td>\n",
       "      <td>Drumstick</td>\n",
       "      <td>Vegetables</td>\n",
       "      <td>0.90</td>\n",
       "      <td>2750.0</td>\n",
       "      <td>3000.0</td>\n",
       "      <td>2875.0</td>\n",
       "      <td>2019-01-19</td>\n",
       "    </tr>\n",
       "    <tr>\n",
       "      <th>5</th>\n",
       "      <td>Gujarat</td>\n",
       "      <td>Vadodara(Baroda)</td>\n",
       "      <td>Drumstick</td>\n",
       "      <td>Vadodara(Sayajipura)</td>\n",
       "      <td>Other</td>\n",
       "      <td>Vegetables</td>\n",
       "      <td>0.70</td>\n",
       "      <td>2500.0</td>\n",
       "      <td>3000.0</td>\n",
       "      <td>2800.0</td>\n",
       "      <td>2019-01-19</td>\n",
       "    </tr>\n",
       "  </tbody>\n",
       "</table>\n",
       "</div>"
      ],
      "text/plain": [
       "  State Name     District Name  Commodity           Market Name    Variety  \\\n",
       "1    Gujarat             Dahod  Drumstick    Dahod(Veg. Market)      Other   \n",
       "2    Gujarat  Vadodara(Baroda)  Drumstick                 Padra      Other   \n",
       "3    Gujarat             Surat  Drumstick                 Surat      Other   \n",
       "4    Gujarat     Surendranagar  Drumstick               Vadhvan  Drumstick   \n",
       "5    Gujarat  Vadodara(Baroda)  Drumstick  Vadodara(Sayajipura)      Other   \n",
       "\n",
       "        Group  Arrivals Tonnes  Min Price Rs_per_Quintal  \\\n",
       "1  Vegetables             0.13                    3000.0   \n",
       "2  Vegetables             0.60                    2000.0   \n",
       "3  Vegetables             6.50                    2750.0   \n",
       "4  Vegetables             0.90                    2750.0   \n",
       "5  Vegetables             0.70                    2500.0   \n",
       "\n",
       "   Max Price Rs_per_Quintal  Modal Price Rs_per_Quintal Reported Date  \n",
       "1                    4000.0                      3700.0    2019-01-19  \n",
       "2                    3000.0                      2500.0    2019-01-19  \n",
       "3                    4250.0                      3500.0    2019-01-19  \n",
       "4                    3000.0                      2875.0    2019-01-19  \n",
       "5                    3000.0                      2800.0    2019-01-19  "
      ]
     },
     "execution_count": 25,
     "metadata": {},
     "output_type": "execute_result"
    }
   ],
   "source": [
    "df_3.head()"
   ]
  },
  {
   "cell_type": "markdown",
   "metadata": {},
   "source": []
  },
  {
   "cell_type": "code",
   "execution_count": 26,
   "metadata": {},
   "outputs": [],
   "source": [
    "df_3.to_csv(\"commodity_03.csv\", index=False)\n",
    "df_4.to_csv(\"commodity_04.csv\", index=False)"
   ]
  },
  {
   "cell_type": "code",
   "execution_count": 8,
   "metadata": {},
   "outputs": [],
   "source": []
  },
  {
   "cell_type": "code",
   "execution_count": null,
   "metadata": {},
   "outputs": [],
   "source": []
  },
  {
   "cell_type": "code",
   "execution_count": null,
   "metadata": {},
   "outputs": [],
   "source": []
  },
  {
   "cell_type": "markdown",
   "metadata": {},
   "source": [
    "df_3.to_csv(\"commodity_03.csv\", index=False)\n",
    "df_4.to_csv(\"commodity_04.csv\", index=False)"
   ]
  },
  {
   "cell_type": "code",
   "execution_count": 12,
   "metadata": {},
   "outputs": [],
   "source": []
  },
  {
   "cell_type": "code",
   "execution_count": null,
   "metadata": {},
   "outputs": [],
   "source": []
  }
 ],
 "metadata": {
  "kernelspec": {
   "display_name": "env",
   "language": "python",
   "name": "python3"
  },
  "language_info": {
   "codemirror_mode": {
    "name": "ipython",
    "version": 3
   },
   "file_extension": ".py",
   "mimetype": "text/x-python",
   "name": "python",
   "nbconvert_exporter": "python",
   "pygments_lexer": "ipython3",
   "version": "3.10.12"
  }
 },
 "nbformat": 4,
 "nbformat_minor": 2
}
