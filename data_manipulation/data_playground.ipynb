{
 "cells": [
  {
   "cell_type": "code",
   "execution_count": 1,
   "metadata": {},
   "outputs": [],
   "source": [
    "import pandas as pd\n",
    "\n",
    "df = pd.read_csv(\"/home/kurinchiban/Desktop/gcs-bq-automation/data_manipulation/Commodity.csv\", header=0, quotechar='\"', delimiter=',')"
   ]
  },
  {
   "cell_type": "code",
   "execution_count": 2,
   "metadata": {},
   "outputs": [],
   "source": [
    "df[\"Reported Date\"] = pd.to_datetime(df[\"Reported Date\"])\n",
    "df['Reported Date'] = pd.to_datetime(df['Reported Date']).dt.strftime(\"%Y-%m-%d\")"
   ]
  },
  {
   "cell_type": "code",
   "execution_count": 5,
   "metadata": {},
   "outputs": [
    {
     "name": "stdout",
     "output_type": "stream",
     "text": [
      "['Gujarat' 'Karnataka' 'Kerala' 'Maharashtra' 'Odisha' 'Telangana'\n",
      " 'Andhra Pradesh' 'Assam' 'Chattisgarh' 'Tamil Nadu' 'Uttar Pradesh'\n",
      " 'Haryana' 'Punjab' 'NCT of Delhi' 'Tripura' 'Uttrakhand' 'West Bengal'\n",
      " 'Madhya Pradesh' 'Himachal Pradesh' 'Jammu and Kashmir' 'Nagaland'\n",
      " 'Rajasthan' 'Chandigarh' 'Meghalaya' 'Goa' 'Jharkhand']\n"
     ]
    }
   ],
   "source": [
    "df.head()\n",
    "unique_state_name = df['State Name'].unique()\n",
    "print(unique_state_name)"
   ]
  },
  {
   "cell_type": "code",
   "execution_count": 11,
   "metadata": {},
   "outputs": [],
   "source": [
    "tamil_nadu_df = df[df['State Name'] == \"Tamil Nadu\"]\n",
    "kerala_df = df[df['State Name'] == \"Kerala\"]\n",
    "karnataka_df= df[df['State Name'] == \"Karnataka\"]\n",
    "andhra_pradesh_df = df[df['State Name'] == \"Andhra Pradesh\"]\n",
    "goa_df = df[df['State Name'] == \"Goa\"]\n",
    "meghalaya_df = df[df['State Name'] == \"Meghalaya\"]"
   ]
  },
  {
   "cell_type": "code",
   "execution_count": 9,
   "metadata": {},
   "outputs": [],
   "source": [
    "tamil_nadu_df.to_csv(\"tamil_nadu.csv\", index=False)\n",
    "kerala_df.to_csv(\"kerala.csv\", index=False)\n",
    "karnataka_df.to_csv(\"karnataka.csv\", index=False)\n",
    "andhra_pradesh_df.to_csv(\"andhra_pradesh.csv\", index=False)\n",
    "goa_df.to_csv(\"goa.csv\", index=False)\n",
    "meghalaya_df.to_csv(\"meghalaya.csv\", index=False)"
   ]
  }
 ],
 "metadata": {
  "kernelspec": {
   "display_name": "env",
   "language": "python",
   "name": "python3"
  },
  "language_info": {
   "codemirror_mode": {
    "name": "ipython",
    "version": 3
   },
   "file_extension": ".py",
   "mimetype": "text/x-python",
   "name": "python",
   "nbconvert_exporter": "python",
   "pygments_lexer": "ipython3",
   "version": "3.10.12"
  }
 },
 "nbformat": 4,
 "nbformat_minor": 2
}
